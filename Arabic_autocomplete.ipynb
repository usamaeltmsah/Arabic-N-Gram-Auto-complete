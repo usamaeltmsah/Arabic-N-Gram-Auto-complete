{
  "nbformat": 4,
  "nbformat_minor": 0,
  "metadata": {
    "kernelspec": {
      "name": "python3",
      "display_name": "Python 3"
    },
    "language_info": {
      "codemirror_mode": {
        "name": "ipython",
        "version": 3
      },
      "file_extension": ".py",
      "mimetype": "text/x-python",
      "name": "python",
      "nbconvert_exporter": "python",
      "pygments_lexer": "ipython3",
      "version": "3.6.8"
    },
    "colab": {
      "name": "Arabic autocomplete.ipynb",
      "provenance": [],
      "collapsed_sections": [],
      "machine_shape": "hm",
      "include_colab_link": true
    },
    "accelerator": "GPU"
  },
  "cells": [
    {
      "cell_type": "markdown",
      "metadata": {
        "id": "view-in-github",
        "colab_type": "text"
      },
      "source": [
        "<a href=\"https://colab.research.google.com/github/usamaeltmsah/Arabic-N-Gram-Auto-complete/blob/trigram/Arabic_autocomplete.ipynb\" target=\"_parent\"><img src=\"https://colab.research.google.com/assets/colab-badge.svg\" alt=\"Open In Colab\"/></a>"
      ]
    },
    {
      "cell_type": "code",
      "metadata": {
        "id": "1MmmGZBi2BO0",
        "colab_type": "code",
        "outputId": "80ecf7ba-6454-427e-8619-e402767ad16b",
        "colab": {
          "base_uri": "https://localhost:8080/",
          "height": 34
        }
      },
      "source": [
        "# For colab usage\n",
        "from google.colab import drive\n",
        "drive.mount('/content/drive/')"
      ],
      "execution_count": 0,
      "outputs": [
        {
          "output_type": "stream",
          "text": [
            "Drive already mounted at /content/drive/; to attempt to forcibly remount, call drive.mount(\"/content/drive/\", force_remount=True).\n"
          ],
          "name": "stdout"
        }
      ]
    },
    {
      "cell_type": "code",
      "metadata": {
        "id": "oEnkOPjD1d5p",
        "colab_type": "code",
        "colab": {}
      },
      "source": [
        "# For colab usage\n",
        "# def unzip_files():\n",
        "#   import zipfile\n",
        "#   !unzip \"/content/drive/My Drive/Colab Notebooks/Arabic autocomplete/Akhbarona.zip\" -d \"/content/drive/My Drive/Colab Notebooks/Arabic autocomplete/Akhbarona\"\n",
        "  # with zipfile.ZipFile(ziped_path,\"r\") as zip_ref:\n",
        "  #   zip_ref.extractall(unziped_path)"
      ],
      "execution_count": 0,
      "outputs": []
    },
    {
      "cell_type": "code",
      "metadata": {
        "id": "W6WOrc8g17FC",
        "colab_type": "code",
        "colab": {}
      },
      "source": [
        "# For colab usage\n",
        "# ziped_file = \"/content/drive/My Drive/Colab Notebooks/Arabic autocomplete/Akhbarona.zip\"\n",
        "# unziped_path = \"/content/drive/My Drive/Colab Notebooks/Arabic autocomplete/Akhbarona\"\n",
        "# unzip_files()\n",
        "# import os\n",
        "\n",
        "# os.listdir('/content/drive/My Drive/Colab Notebooks/Arabic autocomplete/Akhbarona')"
      ],
      "execution_count": 0,
      "outputs": []
    },
    {
      "cell_type": "code",
      "metadata": {
        "id": "UwSek8L51Hw1",
        "colab_type": "code",
        "colab": {}
      },
      "source": [
        "# Read the Arabic texts from files\n",
        "def read_text_files(file_name, directory):\n",
        "  f = open(directory+'/'+file_name, encoding='utf-8')\n",
        "  return f.read()"
      ],
      "execution_count": 0,
      "outputs": []
    },
    {
      "cell_type": "code",
      "metadata": {
        "id": "IvfQWNu81Hw6",
        "colab_type": "code",
        "colab": {}
      },
      "source": [
        "def convert_texts_list_to_str(texts):\n",
        "    return ' '.join([str(s) for s in texts])"
      ],
      "execution_count": 0,
      "outputs": []
    },
    {
      "cell_type": "code",
      "metadata": {
        "id": "6n5mIQII1Hw_",
        "colab_type": "code",
        "colab": {}
      },
      "source": [
        "import os\n",
        "def read_all_text_files_in_dir(directory):\n",
        "    texts = []\n",
        "    dirs = os.listdir(directory)\n",
        "    for dir in dirs:\n",
        "      print (directory+'/'+dir)\n",
        "      try:\n",
        "        files = os.listdir(directory+'/'+dir)\n",
        "        print(files)\n",
        "        for file in files:\n",
        "            texts.append(read_text_files(file, directory+'/'+dir))\n",
        "            text = convert_texts_list_to_str(texts)\n",
        "            save_text_to_file(text, \"/content/drive/My Drive/Colab Notebooks/Arabic autocomplete/data.txt\")\n",
        "            break\n",
        "      except:\n",
        "        continue\n",
        "    return texts"
      ],
      "execution_count": 0,
      "outputs": []
    },
    {
      "cell_type": "code",
      "metadata": {
        "id": "c19q2DLTQxnm",
        "colab_type": "code",
        "colab": {}
      },
      "source": [
        "def read_all_text_files_from_one_field(dir, sub_dir):\n",
        "  # texts = []\n",
        "  path = dir +'/'+ sub_dir\n",
        "  # print(path)\n",
        "  files = os.listdir(path)\n",
        "  # print(files)\n",
        "  i = 0\n",
        "  for file in files:\n",
        "    # print(path+'/'+file)\n",
        "    text = read_text_files(file, path)\n",
        "    # print (text)\n",
        "    if i == 2:\n",
        "      break\n",
        "    i += 1\n",
        "    # save_text_to_file(text, \"/content/drive/My Drive/Colab Notebooks/Arabic autocomplete/data/Finance.txt\")\n",
        "  return text"
      ],
      "execution_count": 0,
      "outputs": []
    },
    {
      "cell_type": "code",
      "metadata": {
        "id": "2ClsvYe1-OUK",
        "colab_type": "code",
        "colab": {}
      },
      "source": [
        "def read_text_files_from_all_fields(dir):\n",
        "  texts = []\n",
        "  dirs = os.listdir(dir)\n",
        "  for sub_dir in dirs:\n",
        "    # print (dir+'/'+sub_dir)\n",
        "    try:\n",
        "      texts.append(read_all_text_files_from_one_field(dir, sub_dir))\n",
        "    except:\n",
        "      continue\n",
        "  return texts\n",
        "\n",
        "# read_text_files_from_all_fields('/content/drive/My Drive/Colab Notebooks/Arabic autocomplete/Akhbarona')"
      ],
      "execution_count": 0,
      "outputs": []
    },
    {
      "cell_type": "code",
      "metadata": {
        "id": "5O58tjKgBTW1",
        "colab_type": "code",
        "colab": {}
      },
      "source": [
        "def save_text_to_file(text, path):\n",
        "  file_object = open(path, 'a')\n",
        "  file_object.write(text)\n",
        "  return True"
      ],
      "execution_count": 0,
      "outputs": []
    },
    {
      "cell_type": "code",
      "metadata": {
        "id": "Rz8ZID9aBsVE",
        "colab_type": "code",
        "colab": {}
      },
      "source": [
        "def add_all_texts_to_one_file(path):\n",
        "  files = os.listdir(path)\n",
        "  i = 0\n",
        "  for file in files:\n",
        "    txt = read_text_files(file, path)\n",
        "    save_text_to_file(txt, '/content/drive/My Drive/Colab Notebooks/Arabic autocomplete/All_data.txt')\n",
        "  return True"
      ],
      "execution_count": 0,
      "outputs": []
    },
    {
      "cell_type": "code",
      "metadata": {
        "id": "nBEqVcaNFKbF",
        "colab_type": "code",
        "colab": {}
      },
      "source": [
        "# add_all_texts_to_one_file('/content/drive/My Drive/Colab Notebooks/Arabic autocomplete/data')"
      ],
      "execution_count": 0,
      "outputs": []
    },
    {
      "cell_type": "code",
      "metadata": {
        "id": "C-8oJzgTRN76",
        "colab_type": "code",
        "colab": {}
      },
      "source": [
        "# texts = read_all_text_files_in_onedir('/content/drive/My Drive/Colab Notebooks/Arabic autocomplete/Akhbarona/', 'Finance')"
      ],
      "execution_count": 0,
      "outputs": []
    },
    {
      "cell_type": "code",
      "metadata": {
        "id": "54iImcYTpmGy",
        "colab_type": "code",
        "colab": {}
      },
      "source": [
        "# text = read_text_files('All_data.txt', '/content/drive/My Drive/Colab Notebooks/Arabic autocomplete')"
      ],
      "execution_count": 0,
      "outputs": []
    },
    {
      "cell_type": "code",
      "metadata": {
        "id": "dUYvey3G1Hx6",
        "colab_type": "code",
        "colab": {}
      },
      "source": [
        "# # Let us see how to generate N-grams using TextBlob.\n",
        "\n",
        "# #  Use the below TextBlob function to create N-grams. Use the text that is defined above and mention the “n” based on the requirement.\n",
        "# # Import textblob\n",
        "# from textblob import TextBlob\n",
        "\n",
        "# # For trigram : Use n = 3\n",
        "# TextBlob(text).ngrams(3)"
      ],
      "execution_count": 0,
      "outputs": []
    },
    {
      "cell_type": "code",
      "metadata": {
        "id": "4HJs55yc1Hx_",
        "colab_type": "code",
        "colab": {}
      },
      "source": [
        "# # importing the function\n",
        "# from sklearn.feature_extraction.text import CountVectorizer\n",
        "\n",
        "# text = [text]\n",
        "# # create the transform\n",
        "# vectorizer = CountVectorizer(ngram_range=(3,3))\n",
        "\n",
        "# # tokenizing\n",
        "# vectorizer.fit(text)\n",
        "\n",
        "# # encode document\n",
        "# vector = vectorizer.transform(text)\n",
        "\n",
        "# # summarize & generating output\n",
        "# print(vectorizer.vocabulary_)"
      ],
      "execution_count": 0,
      "outputs": []
    },
    {
      "cell_type": "code",
      "metadata": {
        "id": "3qP6PSQk0v8q",
        "colab_type": "code",
        "outputId": "ff7d5ce5-dc19-4f93-fdfe-39c67c1f4058",
        "colab": {
          "base_uri": "https://localhost:8080/",
          "height": 1000
        }
      },
      "source": [
        "import nltk\n",
        "import os\n",
        "import re\n",
        "import string  \n",
        "import pickle\n",
        "from nltk.collocations import TrigramCollocationFinder\n",
        "from nltk.metrics import TrigramAssocMeasures\n",
        "\n",
        "# arb_stopwords = set(nltk.corpus.stopwords.words(\"arabic\"))\n",
        "arabic_punctuations = '''`÷×؛<>_()*&^%][ـ،/:\"؟.,'{}~¦+|!”…“–ـ'''\n",
        "english_punctuations = string.punctuation # ?!@#$%^&*(){}[]:'\" ...\n",
        "punctuations_list = arabic_punctuations + english_punctuations\n",
        "arabic_diacritics = re.compile(\"\"\"\n",
        "                             ّ    | # شدة\n",
        "                             َ    | # فتحة\n",
        "                             ً    | # تنوين فتحة\n",
        "                             ُ    | # ضمة\n",
        "                             ٌ    | # تنوين ضمة\n",
        "                             ِ    | # كسرة\n",
        "                             ٍ    | # تنوين كسر\n",
        "                             ْ    | # سكون\n",
        "                             ـ     # تطويل\n",
        "                         \"\"\", re.VERBOSE)\n",
        "def normalize_arabic(text):\n",
        "    text = re.sub(\"[إأآا]\", \"ا\", text)\n",
        "    # text = re.sub(\"ة\", \"ه\", text)\n",
        "    text = re.sub(\"گ\", \"ك\", text)\n",
        "    return text\n",
        "\n",
        "\n",
        "def remove_diacritics(text):\n",
        "    text = re.sub(arabic_diacritics, '', text)\n",
        "    return text\n",
        "\n",
        "\n",
        "def remove_punctuations(text):\n",
        "    translator = str.maketrans('', '', punctuations_list)\n",
        "    return text.translate(translator)\n",
        "\n",
        "def remove_newlines(text):\n",
        "    text = re.sub('\\xa0', '', text)\n",
        "    text = re.sub('', '\\u200f', text)\n",
        "    return re.sub('\\n', ' ', text)\n",
        "\n",
        "def clean_data(text):\n",
        "  text = normalize_arabic(text)\n",
        "  text = remove_diacritics(text)\n",
        "  text = remove_punctuations(text)\n",
        "  text = remove_newlines(text)\n",
        "  return text\n",
        "\n",
        "def save_cleaned_data(text):\n",
        "  open(\"/content/drive/My Drive/Colab Notebooks/Arabic autocomplete/cleaned_data.txt\", 'w').write(text)\n",
        "  return True\n",
        "\n",
        "def save_nbest(best):\n",
        "  pickle.dump(best, open('/content/drive/My Drive/Colab Notebooks/Arabic autocomplete/nbest.txt', 'wb'))\n",
        "  return True\n",
        "\n",
        "def read_nbest(path):\n",
        "  return pickle.load(open(path, 'rb'))\n",
        "\n",
        "def num_words_text(text):\n",
        "  return len(re.findall(r'\\w+', text))\n",
        "\n",
        "def calc_prop(text):\n",
        "  from collections import Counter\n",
        "  bigram = []\n",
        "  probs = []\n",
        "  trigrams = []\n",
        "  words = text.split()\n",
        "  words_len = len(words)-1\n",
        "  words_dict = Counter(words)\n",
        "  for i in range(words_len):\n",
        "    bigram.append(words[i] + \" \" + words[i+1])\n",
        "  bigram_dict = Counter(bigram)\n",
        "  for i in range(words_len - 1):\n",
        "    prob = 1.0\n",
        "    trigram = (words[i], words[i+1], words[i+2])\n",
        "    trigrams.append(trigram)\n",
        "    for j in range(i, i+2):\n",
        "      bi_count = bigram_dict[words[j] + \" \" + words[j+1]]\n",
        "      w_count = words_dict[words[j]]\n",
        "      prob *= bi_count / w_count\n",
        "    probs.append(prob)\n",
        "  trigrams = set(trigrams)\n",
        "  return trigrams, probs\n",
        "\n",
        "def sort_trigrams(trigrams, probs):\n",
        "  zipped=zip(probs,trigrams)\n",
        "  zipped=sorted(zipped)\n",
        "  zipped=reversed(zipped)\n",
        "  probs, trigrams= zip(*zipped)\n",
        "  return trigrams\n",
        "\n",
        "def convert_tuple_to_str(tup): \n",
        "  str =  ' '.join(tup) \n",
        "  return str\n",
        "\n",
        "def print_suggestions(test, trigrams, n):\n",
        "  words = test.split()\n",
        "  sentence = []\n",
        "  for tri in trigrams:\n",
        "    if n == 0:\n",
        "      return\n",
        "    if len(words) == 1:\n",
        "      if words[0] == tri[0]:\n",
        "        print(convert_tuple_to_str(tri))\n",
        "        n -= 1\n",
        "    elif len(words) == 2:\n",
        "      if words[0] == tri[0] and words[1] == tri[1]:\n",
        "        print(convert_tuple_to_str(tri))\n",
        "        n -= 1\n",
        "    else:\n",
        "      if words[-1 ]== tri[0]:\n",
        "        print(convert_tuple_to_str(tri))\n",
        "        n -= 1\n",
        "\n",
        "if __name__ == '__main__':\n",
        "  # text = read_text_files('All_data.txt', '/content/drive/My Drive/Colab Notebooks/Arabic autocomplete')\n",
        "  # text = clean_data(text)\n",
        "  # save_cleaned_data(text)\n",
        "  # text = read_text_files('cleaned_data.txt', '/content/drive/My Drive/Colab Notebooks/Arabic autocomplete')\n",
        "  # words_len = num_words_text(text)\n",
        "  # print(words_len)\n",
        "  # data = text.split()\n",
        "  # find = TrigramCollocationFinder.from_words(data)\n",
        "  # best = find.nbest(TrigramAssocMeasures.likelihood_ratio, words_len)\n",
        "  # save_nbest(best)\n",
        "  # b = read_nbest('/content/drive/My Drive/Colab Notebooks/Arabic autocomplete/nbest.txt')\n",
        "\n",
        "  # trigrams, probs = calc_prop(text)\n",
        "  # trigrams = sort_trigrams(trigrams, probs)\n",
        "  while True:\n",
        "    test = input(\"الجملة: \")\n",
        "    if test == '0':\n",
        "      break\n",
        "    print_suggestions(test,b, 5)"
      ],
      "execution_count": 0,
      "outputs": [
        {
          "output_type": "stream",
          "text": [
            "الجملة: قل اللهم\n",
            "قل اللهم اني\n",
            "قل اللهم اغفر\n",
            "قل اللهم اسلمت\n",
            "قل اللهم قني\n",
            "قل اللهم اهدني\n",
            "الجملة: لا اله الا\n",
            "الا رسول الله\n",
            "الا النبي صلى\n",
            "الا من اجل\n",
            "الا اخبارنا المغربية\n",
            "الا الله تعالى\n",
            "الجملة: هلا ذهبت\n",
            "الجملة: لاعب الكرة\n",
            "لاعب الكرة السابق\n",
            "لاعب الكرة المحترف\n",
            "لاعب الكرة الشهير\n",
            "الجملة: هل قمت\n",
            "هل قمت باخذ\n",
            "الجملة: مؤسس دوري\n",
            "الجملة: كرة القدم\n",
            "كرة القدم اليوم\n",
            "كرة القدم المقامة\n",
            "كرة القدم الشاطئية\n",
            "كرة القدم المقررة\n",
            "كرة القدم فوزي\n",
            "الجملة: اللاعب المحترف\n",
            "اللاعب المحترف السابق\n",
            "اللاعب المحترف كان\n",
            "الجملة: اللاعب محمد\n",
            "اللاعب محمد صلاح\n",
            "اللاعب محمد عبد\n",
            "اللاعب محمد علي\n",
            "اللاعب محمد ابوتريكة\n",
            "اللاعب محمد اوناجم\n",
            "الجملة: محمد رسول\n",
            "محمد رسول الله\n",
            "محمد رسول الله»\n",
            "محمد رسول اللهفانفجر\n",
            "محمد رسول الله»يا\n",
            "محمد رسول اللهاحتار\n",
            "الجملة: محمد عبد\n",
            "محمد عبد الله\n",
            "محمد عبد العزيز\n",
            "محمد عبد الرحيم\n",
            "محمد عبد السلام\n",
            "محمد عبد الوهاب\n",
            "الجملة: نفس\n",
            "نفس رسول الله\n",
            "نفس النبي صلى\n",
            "نفس رئيس الحكومة\n",
            "نفس الله عنه\n",
            "نفس جلالة الملك\n",
            "الجملة: الملك\n",
            "الملك محمد السادس\n",
            "الملك من اجل\n",
            "الملك اخبارنا المغربية\n",
            "الملك الامين العام\n",
            "الملك رئيس الحكومة\n",
            "الجملة: ملك السعودية\n",
            "ملك السعودية السابق\n",
            "ملك السعودية يصر\n",
            "ملك السعودية وانما\n",
            "ملك السعودية سلمان\n",
            "ملك السعودية اخبارنا\n",
            "الجملة: ثورة الخامس\n",
            "ثورة الخامس والعشرين\n",
            "الجملة: ثورات الخليج\n",
            "الجملة: الثورات\n",
            "الثورات بالاضافة الى\n",
            "الثورات التي كانت\n",
            "الثورات في هذه\n",
            "الثورات في سبيل\n",
            "الثورات على غرار\n",
            "الجملة: الهجرة في\n",
            "الهجرة في اطار\n",
            "الهجرة في كل\n",
            "الهجرة في افق\n",
            "الهجرة في سبيل\n",
            "الهجرة في ذلك\n",
            "الجملة: 0\n"
          ],
          "name": "stdout"
        }
      ]
    }
  ]
}