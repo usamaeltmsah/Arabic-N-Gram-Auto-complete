{
  "nbformat": 4,
  "nbformat_minor": 0,
  "metadata": {
    "kernelspec": {
      "name": "python3",
      "display_name": "Python 3"
    },
    "language_info": {
      "codemirror_mode": {
        "name": "ipython",
        "version": 3
      },
      "file_extension": ".py",
      "mimetype": "text/x-python",
      "name": "python",
      "nbconvert_exporter": "python",
      "pygments_lexer": "ipython3",
      "version": "3.6.8"
    },
    "colab": {
      "name": "Arabic autocomplete.ipynb",
      "provenance": [],
      "collapsed_sections": [],
      "machine_shape": "hm"
    },
    "accelerator": "GPU"
  },
  "cells": [
    {
      "cell_type": "code",
      "metadata": {
        "id": "1MmmGZBi2BO0",
        "colab_type": "code",
        "outputId": "53bde8fb-db69-4daa-b83d-ad85e73ae533",
        "colab": {
          "base_uri": "https://localhost:8080/",
          "height": 122
        }
      },
      "source": [
        "# For colab usage\n",
        "from google.colab import drive\n",
        "drive.mount('/content/drive/')"
      ],
      "execution_count": 9,
      "outputs": [
        {
          "output_type": "stream",
          "text": [
            "Go to this URL in a browser: https://accounts.google.com/o/oauth2/auth?client_id=947318989803-6bn6qk8qdgf4n4g3pfee6491hc0brc4i.apps.googleusercontent.com&redirect_uri=urn%3aietf%3awg%3aoauth%3a2.0%3aoob&response_type=code&scope=email%20https%3a%2f%2fwww.googleapis.com%2fauth%2fdocs.test%20https%3a%2f%2fwww.googleapis.com%2fauth%2fdrive%20https%3a%2f%2fwww.googleapis.com%2fauth%2fdrive.photos.readonly%20https%3a%2f%2fwww.googleapis.com%2fauth%2fpeopleapi.readonly\n",
            "\n",
            "Enter your authorization code:\n",
            "··········\n",
            "Mounted at /content/drive/\n"
          ],
          "name": "stdout"
        }
      ]
    },
    {
      "cell_type": "code",
      "metadata": {
        "id": "oEnkOPjD1d5p",
        "colab_type": "code",
        "colab": {}
      },
      "source": [
        "# For colab usage\n",
        "# def unzip_files():\n",
        "#   import zipfile\n",
        "#   !unzip \"/content/drive/My Drive/Colab Notebooks/Arabic autocomplete/Akhbarona.zip\" -d \"/content/drive/My Drive/Colab Notebooks/Arabic autocomplete/Akhbarona\"\n",
        "  # with zipfile.ZipFile(ziped_path,\"r\") as zip_ref:\n",
        "  #   zip_ref.extractall(unziped_path)"
      ],
      "execution_count": 0,
      "outputs": []
    },
    {
      "cell_type": "code",
      "metadata": {
        "id": "W6WOrc8g17FC",
        "colab_type": "code",
        "colab": {}
      },
      "source": [
        "# For colab usage\n",
        "# ziped_file = \"/content/drive/My Drive/Colab Notebooks/Arabic autocomplete/Akhbarona.zip\"\n",
        "# unziped_path = \"/content/drive/My Drive/Colab Notebooks/Arabic autocomplete/Akhbarona\"\n",
        "# unzip_files()\n",
        "# import os\n",
        "\n",
        "# os.listdir('/content/drive/My Drive/Colab Notebooks/Arabic autocomplete/Akhbarona')"
      ],
      "execution_count": 0,
      "outputs": []
    },
    {
      "cell_type": "code",
      "metadata": {
        "id": "UwSek8L51Hw1",
        "colab_type": "code",
        "colab": {}
      },
      "source": [
        "# Read the Arabic texts from files\n",
        "def read_text_files(file_name, directory):\n",
        "  f = open(directory+'/'+file_name, encoding='utf-8')\n",
        "  return f.read()"
      ],
      "execution_count": 0,
      "outputs": []
    },
    {
      "cell_type": "code",
      "metadata": {
        "id": "IvfQWNu81Hw6",
        "colab_type": "code",
        "colab": {}
      },
      "source": [
        "def convert_texts_list_to_str(texts):\n",
        "    return ' '.join([str(s) for s in texts])"
      ],
      "execution_count": 0,
      "outputs": []
    },
    {
      "cell_type": "code",
      "metadata": {
        "id": "6n5mIQII1Hw_",
        "colab_type": "code",
        "colab": {}
      },
      "source": [
        "import os\n",
        "def read_all_text_files_in_dir(directory):\n",
        "    texts = []\n",
        "    dirs = os.listdir(directory)\n",
        "    for dir in dirs:\n",
        "      print (directory+'/'+dir)\n",
        "      try:\n",
        "        files = os.listdir(directory+'/'+dir)\n",
        "        print(files)\n",
        "        for file in files:\n",
        "            texts.append(read_text_files(file, directory+'/'+dir))\n",
        "            text = convert_texts_list_to_str(texts)\n",
        "            save_text_to_file(text, \"/content/drive/My Drive/Colab Notebooks/Arabic autocomplete/data.txt\")\n",
        "            break\n",
        "      except:\n",
        "        continue\n",
        "    return texts"
      ],
      "execution_count": 0,
      "outputs": []
    },
    {
      "cell_type": "code",
      "metadata": {
        "id": "c19q2DLTQxnm",
        "colab_type": "code",
        "colab": {}
      },
      "source": [
        "def read_all_text_files_from_one_field(dir, sub_dir):\n",
        "  # texts = []\n",
        "  path = dir +'/'+ sub_dir\n",
        "  # print(path)\n",
        "  files = os.listdir(path)\n",
        "  # print(files)\n",
        "  i = 0\n",
        "  for file in files:\n",
        "    # print(path+'/'+file)\n",
        "    text = read_text_files(file, path)\n",
        "    # print (text)\n",
        "    if i == 2:\n",
        "      break\n",
        "    i += 1\n",
        "    # save_text_to_file(text, \"/content/drive/My Drive/Colab Notebooks/Arabic autocomplete/data/Finance.txt\")\n",
        "  return text"
      ],
      "execution_count": 0,
      "outputs": []
    },
    {
      "cell_type": "code",
      "metadata": {
        "id": "2ClsvYe1-OUK",
        "colab_type": "code",
        "colab": {}
      },
      "source": [
        "def read_text_files_from_all_fields(dir):\n",
        "  texts = []\n",
        "  dirs = os.listdir(dir)\n",
        "  for sub_dir in dirs:\n",
        "    # print (dir+'/'+sub_dir)\n",
        "    try:\n",
        "      texts.append(read_all_text_files_from_one_field(dir, sub_dir))\n",
        "    except:\n",
        "      continue\n",
        "  return texts\n",
        "\n",
        "# read_text_files_from_all_fields('/content/drive/My Drive/Colab Notebooks/Arabic autocomplete/Akhbarona')"
      ],
      "execution_count": 0,
      "outputs": []
    },
    {
      "cell_type": "code",
      "metadata": {
        "id": "5O58tjKgBTW1",
        "colab_type": "code",
        "colab": {}
      },
      "source": [
        "def save_text_to_file(text, path):\n",
        "  file_object = open(path, 'a')\n",
        "  file_object.write(text)\n",
        "  return True"
      ],
      "execution_count": 0,
      "outputs": []
    },
    {
      "cell_type": "code",
      "metadata": {
        "id": "Rz8ZID9aBsVE",
        "colab_type": "code",
        "colab": {}
      },
      "source": [
        "def add_all_texts_to_one_file(path):\n",
        "  files = os.listdir(path)\n",
        "  i = 0\n",
        "  for file in files:\n",
        "    txt = read_text_files(file, path)\n",
        "    save_text_to_file(txt, '/content/drive/My Drive/Colab Notebooks/Arabic autocomplete/All_data.txt')\n",
        "  return True"
      ],
      "execution_count": 0,
      "outputs": []
    },
    {
      "cell_type": "code",
      "metadata": {
        "id": "nBEqVcaNFKbF",
        "colab_type": "code",
        "colab": {}
      },
      "source": [
        "# add_all_texts_to_one_file('/content/drive/My Drive/Colab Notebooks/Arabic autocomplete/data')"
      ],
      "execution_count": 0,
      "outputs": []
    },
    {
      "cell_type": "code",
      "metadata": {
        "id": "C-8oJzgTRN76",
        "colab_type": "code",
        "colab": {}
      },
      "source": [
        "# texts = read_all_text_files_in_onedir('/content/drive/My Drive/Colab Notebooks/Arabic autocomplete/Akhbarona/', 'Finance')"
      ],
      "execution_count": 0,
      "outputs": []
    },
    {
      "cell_type": "code",
      "metadata": {
        "id": "54iImcYTpmGy",
        "colab_type": "code",
        "colab": {
          "base_uri": "https://localhost:8080/",
          "height": 54
        },
        "outputId": "0ca32470-34d8-4606-f64d-c1b06dd73b8f"
      },
      "source": [
        "# text = read_text_files('All_data.txt', '/content/drive/My Drive/Colab Notebooks/Arabic autocomplete')"
      ],
      "execution_count": 29,
      "outputs": [
        {
          "output_type": "execute_result",
          "data": {
            "text/plain": [
              "'خبارنا المغربية : محمد الميموني\\nتداولت وسائل إعلام أمريكية أخبارا تشير إلى إمكانيات ظهور مستجدات من شأنها أن تقلب الأوضاع في سباق تنظيم مونديال 2026 الذي يتنافس عليه الملف المغربي والملف المشترك بين الولايات المتحدة وكندا والمكسيك.\\nو وفقا للأنباء المتداولة، فإن أعضاء من الفيفا اقترحوا حلا قد ينهي الصراع بين الجانبين، ويتمثل في انسحاب المغرب من سباق استضافة كأس العالم 2026 لصالح الملف الأمريكي، مع منحه مسبقا شرف تنظيم نسخة 2030 من كأس العالم.\\nوأضافت ذات المصادر أن احتمال موافقة المسؤولين المغاربة على هذا المقترح واردة جدا خاصة إذا ما حصلوا على ضمانات من طرف رئيس الفيفا بخصوص تنظيم النسخة الموالية دون وجود منافس.الأوروغواي تجهز على أحلام العراق في بلوغ نهائي مونديال الشباب\\n\\n\\xa0\\nأضاع المنتخب العراقي فرصة تاريخية للوصول إلى نهائي بطولة كأس العالم لكرة القدم 2013 للشباب (تحت سن 20 عاماً)، إثر خسارته أمام الأوروغواي بركلات الترجيح (6-7) بعدما تعادلا (1-1) في الوقتين الأصلي والإضافي للمباراة المثيرة التي جرت بينهما الأربعاء 10 يوليو/تموز، على استاد \"بورسا اتاتورك\" في مدينة بورسا التركية. وأهدر'"
            ]
          },
          "metadata": {
            "tags": []
          },
          "execution_count": 29
        }
      ]
    },
    {
      "cell_type": "code",
      "metadata": {
        "id": "dUYvey3G1Hx6",
        "colab_type": "code",
        "colab": {}
      },
      "source": [
        "# # Let us see how to generate N-grams using TextBlob.\n",
        "\n",
        "# #  Use the below TextBlob function to create N-grams. Use the text that is defined above and mention the “n” based on the requirement.\n",
        "# # Import textblob\n",
        "# from textblob import TextBlob\n",
        "\n",
        "# # For trigram : Use n = 3\n",
        "# TextBlob(text).ngrams(3)"
      ],
      "execution_count": 0,
      "outputs": []
    },
    {
      "cell_type": "code",
      "metadata": {
        "id": "4HJs55yc1Hx_",
        "colab_type": "code",
        "colab": {}
      },
      "source": [
        "# # importing the function\n",
        "# from sklearn.feature_extraction.text import CountVectorizer\n",
        "\n",
        "# text = [text]\n",
        "# # create the transform\n",
        "# vectorizer = CountVectorizer(ngram_range=(3,3))\n",
        "\n",
        "# # tokenizing\n",
        "# vectorizer.fit(text)\n",
        "\n",
        "# # encode document\n",
        "# vector = vectorizer.transform(text)\n",
        "\n",
        "# # summarize & generating output\n",
        "# print(vectorizer.vocabulary_)"
      ],
      "execution_count": 0,
      "outputs": []
    },
    {
      "cell_type": "code",
      "metadata": {
        "id": "3qP6PSQk0v8q",
        "colab_type": "code",
        "colab": {
          "base_uri": "https://localhost:8080/",
          "height": 1000
        },
        "outputId": "e6d77733-8804-449d-90df-ba7810d4d6a8"
      },
      "source": [
        "import nltk\n",
        "import os\n",
        "import re\n",
        "import string  \n",
        "import pickle\n",
        "from nltk.collocations import TrigramCollocationFinder\n",
        "from nltk.metrics import TrigramAssocMeasures\n",
        "\n",
        "# arb_stopwords = set(nltk.corpus.stopwords.words(\"arabic\"))\n",
        "arabic_punctuations = '''`÷×؛<>_()*&^%][ـ،/:\"؟.,'{}~¦+|!”…“–ـ'''\n",
        "english_punctuations = string.punctuation # ?!@#$%^&*(){}[]:'\" ...\n",
        "punctuations_list = arabic_punctuations + english_punctuations\n",
        "arabic_diacritics = re.compile(\"\"\"\n",
        "                             ّ    | # شدة\n",
        "                             َ    | # فتحة\n",
        "                             ً    | # تنوين فتحة\n",
        "                             ُ    | # ضمة\n",
        "                             ٌ    | # تنوين ضمة\n",
        "                             ِ    | # كسرة\n",
        "                             ٍ    | # تنوين كسر\n",
        "                             ْ    | # سكون\n",
        "                             ـ     # تطويل\n",
        "                         \"\"\", re.VERBOSE)\n",
        "def normalize_arabic(text):\n",
        "    text = re.sub(\"[إأآا]\", \"ا\", text)\n",
        "    # text = re.sub(\"ة\", \"ه\", text)\n",
        "    text = re.sub(\"گ\", \"ك\", text)\n",
        "    return text\n",
        "\n",
        "\n",
        "def remove_diacritics(text):\n",
        "    text = re.sub(arabic_diacritics, '', text)\n",
        "    return text\n",
        "\n",
        "\n",
        "def remove_punctuations(text):\n",
        "    translator = str.maketrans('', '', punctuations_list)\n",
        "    return text.translate(translator)\n",
        "\n",
        "def remove_newlines(text):\n",
        "    text = re.sub('\\xa0', '', text)\n",
        "    return re.sub('\\n', ' ', text)\n",
        "\n",
        "def clean_data(text):\n",
        "  text = normalize_arabic(text)\n",
        "  text = remove_diacritics(text)\n",
        "  text = remove_punctuations(text)\n",
        "  text = remove_newlines(text)\n",
        "  return text\n",
        "\n",
        "def save_cleaned_data(text):\n",
        "  open(\"/content/drive/My Drive/Colab Notebooks/Arabic autocomplete/cleaned_data.txt\", 'w').write(text)\n",
        "  return True\n",
        "\n",
        "def save_nbest(best):\n",
        "  pickle.dump(best, open('/content/drive/My Drive/Colab Notebooks/Arabic autocomplete/nbest.txt', 'wb'))\n",
        "  return True\n",
        "\n",
        "def read_nbest(path):\n",
        "  return pickle.load(open(path, 'rb'))\n",
        "\n",
        "def num_words_text(text):\n",
        "  return len(re.findall(r'\\w+', text))\n",
        "\n",
        "def best_nSuggesstion(best, nSuggesstion):\n",
        "  c = 0\n",
        "  for i in best:\n",
        "      if c == nSuggesstion:\n",
        "          break\n",
        "      if len(test)==1:\n",
        "          if test[0]==i[0]:\n",
        "              c+=1\n",
        "              print(i)\n",
        "          else:\n",
        "              continue\n",
        "      elif len(test)==2:\n",
        "          if test[0]==i[0] and test[1]==i[1]:\n",
        "              c+=1\n",
        "              print(i)\n",
        "          else:\n",
        "              continue\n",
        "      else:\n",
        "          if test[-1]==i[0]:\n",
        "              c+=1\n",
        "              print(i)\n",
        "          else:\n",
        "              continue\n",
        "\n",
        "if __name__ == '__main__':\n",
        "  # text = read_text_files('All_data.txt', '/content/drive/My Drive/Colab Notebooks/Arabic autocomplete')\n",
        "  # text = clean_data(text)\n",
        "  # save_cleaned_data(text)\n",
        "  # text = read_text_files('cleaned_data.txt', '/content/drive/My Drive/Colab Notebooks/Arabic autocomplete')\n",
        "  # words_len = num_words_text(text)\n",
        "  # print(words_len)\n",
        "  # data = text.split()\n",
        "  # find = TrigramCollocationFinder.from_words(data)\n",
        "  # best = find.nbest(TrigramAssocMeasures.likelihood_ratio, words_len)\n",
        "  # save_nbest(best)\n",
        "  b = read_nbest('/content/drive/My Drive/Colab Notebooks/Arabic autocomplete/nbest.txt')\n",
        "  nSuggesstion = 15\n",
        "  while True:\n",
        "    test = input(\"الجملة: \")\n",
        "    if test == '0':\n",
        "      break\n",
        "    test = test.split()\n",
        "    best_nSuggesstion(b, nSuggesstion)"
      ],
      "execution_count": 75,
      "outputs": [
        {
          "output_type": "stream",
          "text": [
            "الجملة: هل من\n",
            "('هل', 'من', 'اجل')\n",
            "('هل', 'من', 'قبيل')\n",
            "('هل', 'من', 'السنة')\n",
            "('هل', 'من', 'الممكن')\n",
            "('هل', 'من', 'الضروري')\n",
            "('هل', 'من', 'جديد')\n",
            "('هل', 'من', 'الصعب')\n",
            "('هل', 'من', 'الافضل')\n",
            "('هل', 'من', 'السهل')\n",
            "('هل', 'من', 'حق')\n",
            "('هل', 'من', 'كان')\n",
            "('هل', 'من', 'كلمة')\n",
            "('هل', 'من', 'طعام')\n",
            "('هل', 'من', 'كلام')\n",
            "('هل', 'من', 'واجبات')\n",
            "الجملة: من السنة\n",
            "('من', 'السنة', 'الماضية')\n",
            "('من', 'السنة', 'الجارية')\n",
            "('من', 'السنة', 'التي')\n",
            "('من', 'السنة', 'الفارطة')\n",
            "('من', 'السنة', 'النبوية')\n",
            "('من', 'السنة', 'المنصرمة')\n",
            "('من', 'السنة', 'المقبلة')\n",
            "('من', 'السنة', 'الميلادية')\n",
            "('من', 'السنة', 'الحالية')\n",
            "('من', 'السنة', 'التشريعية')\n",
            "('من', 'السنة', 'عن')\n",
            "('من', 'السنة', 'على')\n",
            "('من', 'السنة', 'او')\n",
            "('من', 'السنة', 'في')\n",
            "('من', 'السنة', 'الى')\n",
            "الجملة: التشريعية\n",
            "('التشريعية', 'من', 'اجل')\n",
            "('التشريعية', 'اخبارنا', 'المغربية')\n",
            "('التشريعية', 'من', 'خلال')\n",
            "('التشريعية', 'في', 'اطار')\n",
            "('التشريعية', 'مشيرا', 'الى')\n",
            "('التشريعية', 'وهو', 'ما')\n",
            "('التشريعية', 'في', 'مجال')\n",
            "('التشريعية', 'على', 'مستوى')\n",
            "('التشريعية', 'يجب', 'ان')\n",
            "('التشريعية', 'الا', 'ان')\n",
            "('التشريعية', 'قبل', 'ان')\n",
            "('التشريعية', 'لا', 'يمكن')\n",
            "('التشريعية', 'في', 'هذا')\n",
            "('التشريعية', 'في', 'حين')\n",
            "('التشريعية', 'ازيد', 'من')\n",
            "الجملة: من اجل \n",
            "('من', 'اجل', 'اخرى')\n",
            "('من', 'اجل', 'ضمان')\n",
            "('من', 'اجل', 'تحقيق')\n",
            "('من', 'اجل', 'الحصول')\n",
            "('من', 'اجل', 'تعزيز')\n",
            "('من', 'اجل', 'ايجاد')\n",
            "('من', 'اجل', 'التوصل')\n",
            "('من', 'اجل', 'الحفاظ')\n",
            "('من', 'اجل', 'الى')\n",
            "('من', 'اجل', 'الديمقراطية')\n",
            "('من', 'اجل', 'تحسين')\n",
            "('من', 'اجل', 'الوصول')\n",
            "('من', 'اجل', 'تطوير')\n",
            "('من', 'اجل', 'اعادة')\n",
            "('من', 'اجل', 'تقديم')\n",
            "الجملة: اجل الحصول\n",
            "('اجل', 'الحصول', 'على')\n",
            "('اجل', 'الحصول', 'عليها')\n",
            "('اجل', 'الحصول', 'عليه')\n",
            "('اجل', 'الحصول', 'علي')\n",
            "('اجل', 'الحصول', 'على\\u202e')\n",
            "('اجل', 'الحصول', 'على\\u202d')\n",
            "الجملة: الحصول على\n",
            "('الحصول', 'على', 'مستوى')\n",
            "('الحصول', 'على', 'الاقل')\n",
            "('الحصول', 'على', 'صحة')\n",
            "('الحصول', 'على', 'نسبة')\n",
            "('الحصول', 'على', 'شكل')\n",
            "('الحصول', 'على', 'ذلك')\n",
            "('الحصول', 'على', 'يد')\n",
            "('الحصول', 'على', 'ارض')\n",
            "('الحصول', 'على', 'الصحة')\n",
            "('الحصول', 'على', 'مادة')\n",
            "('الحصول', 'على', 'كل')\n",
            "('الحصول', 'على', 'مواد')\n",
            "('الحصول', 'على', 'كمية')\n",
            "('الحصول', 'على', 'جائزة')\n",
            "('الحصول', 'على', 'كميات')\n",
            "الجملة: 0\n"
          ],
          "name": "stdout"
        }
      ]
    }
  ]
}
